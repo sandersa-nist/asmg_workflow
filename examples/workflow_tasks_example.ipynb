{
 "cells": [
  {
   "cell_type": "markdown",
   "metadata": {},
   "source": [
    "# Workflows\n",
    "This notebook is an example on how to use the nasctn_workflow software to create complex sequences of tasks.\n",
    "The software consists of 3 main parts:\n",
    "1. A dependency system, that represents the depencies that tasks require to run \n",
    "2. Task, an abstract class that represents something to be done\n",
    "3. Workflow an abstact class that represents a number of tasks that need to be done. Workflows are tasks,so workflows of workflows can be assembled. \n",
    "\n",
    "The flow of design is:\n",
    "1. Define the tasks to be done. Each task can be a predefined one, or a new task defined through inheritance.\n",
    "2. Define the dependencies for each task. There several stock dependencies and checkers, if a new dependency is needed, it is just a dictionary that uses a function that returns true if met or false if not met.\n",
    "3. Add the dependencies to the tasks \n",
    "4. Add the tasks to the workflow"
   ]
  },
  {
   "cell_type": "markdown",
   "metadata": {},
   "source": [
    "## Imports"
   ]
  },
  {
   "cell_type": "code",
   "execution_count": null,
   "metadata": {},
   "outputs": [],
   "source": [
    "top_directory = r\"C:\\Users\\sandersa\\PycharmProjects\"\n",
    "import sys\n",
    "from asmg_workflow import *\n",
    "# todo make a setup.py"
   ]
  },
  {
   "cell_type": "markdown",
   "metadata": {},
   "source": [
    "## A simple example\n",
    "Supose you need to calculate a chain of functions that depend on the previous answer. We define three functions and create a workflow."
   ]
  },
  {
   "cell_type": "code",
   "execution_count": 2,
   "metadata": {},
   "outputs": [
    {
     "name": "stdout",
     "output_type": "stream",
     "text": [
      "An error occurred in opening the log linear_log_20220811_001.yaml, error:[Errno 2] No such file or directory: 'linear_log_20220811_001.yaml' creating a new one.\n",
      "An error occurred in opening the log square_log_20220811_001.yaml, error:[Errno 2] No such file or directory: 'square_log_20220811_001.yaml' creating a new one.\n",
      "An error occurred in opening the log cubic_log_20220811_001.yaml, error:[Errno 2] No such file or directory: 'cubic_log_20220811_001.yaml' creating a new one.\n",
      "An error occurred in opening the log test_workflow_1_log_20220811_001.yaml, error:[Errno 2] No such file or directory: 'test_workflow_1_log_20220811_001.yaml' creating a new one.\n",
      "An error occurred in opening the log Start_log_20220811_001.yaml, error:[Errno 2] No such file or directory: 'Start_log_20220811_001.yaml' creating a new one.\n",
      "An error occurred in opening the log Stop_log_20220811_001.yaml, error:[Errno 2] No such file or directory: 'Stop_log_20220811_001.yaml' creating a new one.\n"
     ]
    }
   ],
   "source": [
    "# Variable \n",
    "start_number  = 10.1e8\n",
    "#### Define the functions\n",
    "###############\n",
    "def f1(x):\n",
    "    \"\"\"linear function, y = 3x+4\"\"\"\n",
    "    return 3*x+4\n",
    "def f2(x):\n",
    "    \"\"\"Square function x**2\"\"\"\n",
    "    return x**2\n",
    "def f3(x):\n",
    "    \"\"\"cubic function .25*x**3\"\"\"\n",
    "    return .25*x**3\n",
    "####################\n",
    "### define the tasks\n",
    "####################\n",
    "# The first task does not depend on anything\n",
    "# so we use FunctionTask\n",
    "#######################\n",
    "task_1 = FunctionTask(function = f1,args = [start_number],name = \"linear\")\n",
    "#########################\n",
    "# The next task depends on the first one \n",
    "# being done so we use DependentFunctionTask\n",
    "# The input will be passed by the dependency\n",
    "task_2 = DependentFunctionTask(function = f2, name =\"square\" )\n",
    "################################################\n",
    "task_3 = DependentFunctionTask(function =f3, name = \"cubic\")\n",
    "###################\n",
    "### define the dependencies\n",
    "###################\n",
    "# The first one is that the first task is done\n",
    "dependency_1 = TaskDependency(input  = {\"task\":task_1})\n",
    "# The next one is that the second task is done\n",
    "dependency_2 = TaskDependency(input  = {\"task\":task_2})\n",
    "########################\n",
    "## Add the dependencies\n",
    "#######################\n",
    "task_2.add_dependency(dependency_1)\n",
    "task_3.add_dependency(dependency_2)\n",
    "#######################\n",
    "## Create the workflow and add the tasks\n",
    "#######################\n",
    "test_workflow = Workflow(name = \"test_workflow_1\")\n",
    "## The start task is special, it has to be run before everybody else. If you don't assign it then it is just empty and\n",
    "# runs nothing\n",
    "test_workflow.add_task(task_1)\n",
    "test_workflow.add_task(task_2)\n",
    "test_workflow.add_task(task_3)"
   ]
  },
  {
   "cell_type": "markdown",
   "metadata": {},
   "source": [
    "### Now we run the workflow"
   ]
  },
  {
   "cell_type": "code",
   "execution_count": 3,
   "metadata": {},
   "outputs": [],
   "source": [
    "# Executing the workflow, all the tasks will be arranged by their dependencies \n",
    "test_workflow.execute()"
   ]
  },
  {
   "cell_type": "code",
   "execution_count": 4,
   "metadata": {},
   "outputs": [
    {
     "name": "stdout",
     "output_type": "stream",
     "text": [
      "- event: Log Creation\n",
      "  timestamp: 2022-08-11 11:36:42.016950\n",
      "- event: Task test_workflow_1 was created.\n",
      "  timestamp: 2022-08-11 11:36:42.026952\n",
      "- event: Task id is 5301987c-2d58-45e5-8448-9b8484fee9c6\n",
      "  timestamp: 2022-08-11 11:36:42.026952\n",
      "- event: Starting slot 0, tasks ['Start'] have started\n",
      "  timestamp: 2022-08-11 11:36:42.181686\n",
      "- event: The task Start has completed\n",
      "  timestamp: 2022-08-11 11:36:42.198644\n",
      "- event: Starting slot 1, tasks ['linear'] have started\n",
      "  timestamp: 2022-08-11 11:36:42.227815\n",
      "- event: The task linear has completed\n",
      "  timestamp: 2022-08-11 11:36:42.239992\n",
      "- event: Starting slot 2, tasks ['square'] have started\n",
      "  timestamp: 2022-08-11 11:36:42.348828\n",
      "- event: The task square has completed\n",
      "  timestamp: 2022-08-11 11:36:42.358826\n",
      "- event: Starting slot 3, tasks ['cubic'] have started\n",
      "  timestamp: 2022-08-11 11:36:42.518834\n",
      "- event: The task cubic has completed\n",
      "  timestamp: 2022-08-11 11:36:42.528835\n",
      "- event: Starting slot 4, tasks ['Stop'] have started\n",
      "  timestamp: 2022-08-11 11:36:42.548832\n",
      "- event: The task Stop has completed\n",
      "  timestamp: 2022-08-11 11:36:42.568831\n",
      "\n"
     ]
    }
   ],
   "source": [
    "# Each workflow has a log and each task has one of its own\n",
    "print(test_workflow.log)"
   ]
  },
  {
   "cell_type": "code",
   "execution_count": 5,
   "metadata": {},
   "outputs": [
    {
     "data": {
      "image/png": "[encoded data removed]",
      "text/plain": [
       "<Figure size 432x288 with 1 Axes>"
      ]
     },
     "metadata": {},
     "output_type": "display_data"
    }
   ],
   "source": [
    "# the show method creates a network graph\n",
    "# You can display by node name or by scheduled slot\n",
    "test_workflow.show(display = \"name\",verbose = False)"
   ]
  },
  {
   "cell_type": "code",
   "execution_count": 6,
   "metadata": {},
   "outputs": [
    {
     "name": "stdout",
     "output_type": "stream",
     "text": [
      "The slot index is 0\n",
      "The slot index is 1\n",
      "The task index is 0 and the task is linear\n",
      "The slot index is 1, The task index is 0 and the task is <nasctn_workflow.code_.tasks.FunctionTask object at 0x000001F622CF64E0>\n",
      "Adding the edge Start,linear \n",
      "The slot index is 2\n",
      "The task index is 0 and the task is square\n",
      "task is in the list of dependencies\n",
      "task is the dependency type \n",
      "The slot index is 3\n",
      "The task index is 0 and the task is cubic\n",
      "task is in the list of dependencies\n",
      "task is the dependency type \n",
      "The task index is 0 and the task is <nasctn_workflow.code_.tasks.DependentFunctionTask object at 0x000001F622CF65F8>\n",
      "The slot index is 4\n"
     ]
    },
    {
     "data": {
      "image/png": "[encoded data removed]",
      "text/plain": [
       "<Figure size 432x288 with 1 Axes>"
      ]
     },
     "metadata": {},
     "output_type": "display_data"
    }
   ],
   "source": [
    "# the show method creates a network graph\n",
    "# You can display by node name or by scheduled slot\n",
    "test_workflow.show(display = \"name\",verbose = True)"
   ]
  },
  {
   "cell_type": "code",
   "execution_count": 7,
   "metadata": {},
   "outputs": [
    {
     "name": "stdout",
     "output_type": "stream",
     "text": [
      "The ouput of task cubic is 1.934620489794049e+56\n",
      "The ouput of task square is 9.18090002424e+18\n",
      "The ouput of task linear is 3030000004.0\n"
     ]
    }
   ],
   "source": [
    "# here is a printed output of the executed tasks\n",
    "for task in test_workflow.tasks:\n",
    "    try:\n",
    "        print(f'The ouput of task {task.name} is {task.output}')\n",
    "    except:\n",
    "        pass"
   ]
  },
  {
   "cell_type": "code",
   "execution_count": 8,
   "metadata": {},
   "outputs": [
    {
     "name": "stdout",
     "output_type": "stream",
     "text": [
      "- event: Log Creation\n",
      "  timestamp: 2022-08-11 11:36:41.849325\n",
      "- event: Task linear was created.\n",
      "  timestamp: 2022-08-11 11:36:41.874330\n",
      "- event: Task id is 7be106f7-7024-4839-9f32-6b70df0bd2fa\n",
      "  timestamp: 2022-08-11 11:36:41.883324\n",
      "- event: Execution of function <function f1 at 0x000001F67CEE5BF8> has begun\n",
      "  timestamp: 2022-08-11 11:36:42.209642\n",
      "- event: Execution of function <function f1 at 0x000001F67CEE5BF8> has completed\n",
      "  timestamp: 2022-08-11 11:36:42.217642\n",
      "\n"
     ]
    }
   ],
   "source": [
    "# An example of the task log\n",
    "print(task_1.log)"
   ]
  },
  {
   "cell_type": "code",
   "execution_count": 9,
   "metadata": {},
   "outputs": [
    {
     "data": {
      "text/plain": [
       "UUID('296f600c-f612-40cd-aa1d-1c4db10f693b')"
      ]
     },
     "execution_count": 9,
     "metadata": {},
     "output_type": "execute_result"
    }
   ],
   "source": [
    "# Each task gets a UUID upon creation\n",
    "task_2.id"
   ]
  },
  {
   "cell_type": "markdown",
   "metadata": {},
   "source": [
    "## A slightly more complex example\n",
    "In this example we will calculate three numbers and then pass the results to a final function that uses all three."
   ]
  },
  {
   "cell_type": "code",
   "execution_count": 10,
   "metadata": {},
   "outputs": [
    {
     "name": "stdout",
     "output_type": "stream",
     "text": [
      "An error occurred in opening the log linear_log_20220811_002.yaml, error:[Errno 2] No such file or directory: 'linear_log_20220811_002.yaml' creating a new one.\n",
      "An error occurred in opening the log square_log_20220811_002.yaml, error:[Errno 2] No such file or directory: 'square_log_20220811_002.yaml' creating a new one.\n",
      "An error occurred in opening the log cubic_log_20220811_002.yaml, error:[Errno 2] No such file or directory: 'cubic_log_20220811_002.yaml' creating a new one.\n",
      "An error occurred in opening the log combiner_log_20220811_001.yaml, error:[Errno 2] No such file or directory: 'combiner_log_20220811_001.yaml' creating a new one.\n",
      "An error occurred in opening the log test_workflow_2_log_20220811_001.yaml, error:[Errno 2] No such file or directory: 'test_workflow_2_log_20220811_001.yaml' creating a new one.\n",
      "An error occurred in opening the log Start_log_20220811_002.yaml, error:[Errno 2] No such file or directory: 'Start_log_20220811_002.yaml' creating a new one.\n",
      "An error occurred in opening the log Stop_log_20220811_002.yaml, error:[Errno 2] No such file or directory: 'Stop_log_20220811_002.yaml' creating a new one.\n"
     ]
    }
   ],
   "source": [
    "# variables\n",
    "x = 1\n",
    "y = 2\n",
    "z = 3\n",
    "\n",
    "#############\n",
    "# Functions - we will use f1,f2,f3 from the previous example\n",
    "def f4(x,y,z):\n",
    "    \"\"\"Calculate x+y-z\"\"\"\n",
    "    return x+y-z\n",
    "\n",
    "# Task Defintion - notice the FunctionTask instead of Dependent Function Task\n",
    "# Also the class MultipleDependentFunctionTask takes input from multiple previous tasks\n",
    "example2_task_1 = FunctionTask(function = f1,args = [x],name = \"linear\")\n",
    "example2_task_2 = FunctionTask(function = f2,args = [y],name = \"square\")\n",
    "example2_task_3 = FunctionTask(function = f3,args = [z],name = \"cubic\")\n",
    "example2_task_4 = MultipleDependentFunctionTask(function = f4,name = \"combiner\")\n",
    "# Dependency defintion\n",
    "dependency_1 = TaskDependency(input={\"task\":example2_task_1,\"output_name\":\"x\"})\n",
    "dependency_2 = TaskDependency(input={\"task\":example2_task_2,\"output_name\":\"y\"})\n",
    "dependency_3 = TaskDependency(input={\"task\":example2_task_3,\"output_name\":\"z\"})\n",
    "# Add the dependecies to task_4\n",
    "example2_task_4.add_dependency(dependency_1)\n",
    "example2_task_4.add_dependency(dependency_2)\n",
    "example2_task_4.add_dependency(dependency_3)\n",
    "# Create worflow and add tasks\n",
    "workflow = Workflow(name = \"test_workflow_2\")\n",
    "workflow.add_task(example2_task_1)\n",
    "workflow.add_task(example2_task_2)\n",
    "workflow.add_task(example2_task_3)\n",
    "workflow.add_task(example2_task_4)\n",
    "\n"
   ]
  },
  {
   "cell_type": "code",
   "execution_count": 11,
   "metadata": {},
   "outputs": [],
   "source": [
    "#execute\n",
    "workflow.execute()"
   ]
  },
  {
   "cell_type": "code",
   "execution_count": 12,
   "metadata": {},
   "outputs": [
    {
     "data": {
      "image/png": "[encoded data removed]",
      "text/plain": [
       "<Figure size 432x288 with 1 Axes>"
      ]
     },
     "metadata": {},
     "output_type": "display_data"
    }
   ],
   "source": [
    "workflow.show(display=\"name\")"
   ]
  },
  {
   "cell_type": "code",
   "execution_count": 13,
   "metadata": {},
   "outputs": [
    {
     "name": "stdout",
     "output_type": "stream",
     "text": [
      "The ouput of task combiner is 4.25\n",
      "The ouput of task cubic is 6.75\n",
      "The ouput of task square is 4\n",
      "The ouput of task linear is 7\n"
     ]
    }
   ],
   "source": [
    "# here is a printed output of the executed tasks\n",
    "for task in workflow.tasks:\n",
    "    try:\n",
    "        print(f'The ouput of task {task.name} is {task.output}')\n",
    "    except:\n",
    "        pass"
   ]
  },
  {
   "cell_type": "code",
   "execution_count": 14,
   "metadata": {},
   "outputs": [
    {
     "name": "stdout",
     "output_type": "stream",
     "text": [
      "- event: Log Creation\n",
      "  timestamp: 2022-08-11 11:36:44.074545\n",
      "- event: Task test_workflow_2 was created.\n",
      "  timestamp: 2022-08-11 11:36:44.085220\n",
      "- event: Task id is fddb306e-3c11-4dd1-a5f0-b163801c6ea8\n",
      "  timestamp: 2022-08-11 11:36:44.092226\n",
      "- event: Starting slot 0, tasks ['Start'] have started\n",
      "  timestamp: 2022-08-11 11:36:44.194159\n",
      "- event: The task Start has completed\n",
      "  timestamp: 2022-08-11 11:36:44.202156\n",
      "- event: Starting slot 1, tasks ['cubic', 'square', 'linear'] have started\n",
      "  timestamp: 2022-08-11 11:36:44.243494\n",
      "- event: The task cubic has completed\n",
      "  timestamp: 2022-08-11 11:36:44.253491\n",
      "- event: The task square has completed\n",
      "  timestamp: 2022-08-11 11:36:44.261008\n",
      "- event: The task linear has completed\n",
      "  timestamp: 2022-08-11 11:36:44.271026\n",
      "- event: Starting slot 2, tasks ['combiner'] have started\n",
      "  timestamp: 2022-08-11 11:36:44.461028\n",
      "- event: The task combiner has completed\n",
      "  timestamp: 2022-08-11 11:36:44.471027\n",
      "- event: Starting slot 3, tasks ['Stop'] have started\n",
      "  timestamp: 2022-08-11 11:36:44.491027\n",
      "- event: The task Stop has completed\n",
      "  timestamp: 2022-08-11 11:36:44.501027\n",
      "\n"
     ]
    }
   ],
   "source": [
    "print(workflow.log)"
   ]
  },
  {
   "cell_type": "code",
   "execution_count": 15,
   "metadata": {},
   "outputs": [
    {
     "data": {
      "text/plain": [
       "[{'timestamp': datetime.datetime(2022, 8, 11, 11, 36, 44, 74545),\n",
       "  'event': 'Log Creation'},\n",
       " {'timestamp': datetime.datetime(2022, 8, 11, 11, 36, 44, 85220),\n",
       "  'event': 'Task test_workflow_2 was created.'},\n",
       " {'timestamp': datetime.datetime(2022, 8, 11, 11, 36, 44, 92226),\n",
       "  'event': 'Task id is fddb306e-3c11-4dd1-a5f0-b163801c6ea8'},\n",
       " {'timestamp': datetime.datetime(2022, 8, 11, 11, 36, 44, 194159),\n",
       "  'event': \"Starting slot 0, tasks ['Start'] have started\"},\n",
       " {'timestamp': datetime.datetime(2022, 8, 11, 11, 36, 44, 202156),\n",
       "  'event': 'The task Start has completed'},\n",
       " {'timestamp': datetime.datetime(2022, 8, 11, 11, 36, 44, 243494),\n",
       "  'event': \"Starting slot 1, tasks ['cubic', 'square', 'linear'] have started\"},\n",
       " {'timestamp': datetime.datetime(2022, 8, 11, 11, 36, 44, 253491),\n",
       "  'event': 'The task cubic has completed'},\n",
       " {'timestamp': datetime.datetime(2022, 8, 11, 11, 36, 44, 261008),\n",
       "  'event': 'The task square has completed'},\n",
       " {'timestamp': datetime.datetime(2022, 8, 11, 11, 36, 44, 271026),\n",
       "  'event': 'The task linear has completed'},\n",
       " {'timestamp': datetime.datetime(2022, 8, 11, 11, 36, 44, 461028),\n",
       "  'event': \"Starting slot 2, tasks ['combiner'] have started\"},\n",
       " {'timestamp': datetime.datetime(2022, 8, 11, 11, 36, 44, 471027),\n",
       "  'event': 'The task combiner has completed'},\n",
       " {'timestamp': datetime.datetime(2022, 8, 11, 11, 36, 44, 491027),\n",
       "  'event': \"Starting slot 3, tasks ['Stop'] have started\"},\n",
       " {'timestamp': datetime.datetime(2022, 8, 11, 11, 36, 44, 501027),\n",
       "  'event': 'The task Stop has completed'}]"
      ]
     },
     "execution_count": 15,
     "metadata": {},
     "output_type": "execute_result"
    }
   ],
   "source": [
    "workflow.log.log"
   ]
  },
  {
   "cell_type": "code",
   "execution_count": 16,
   "metadata": {},
   "outputs": [],
   "source": [
    "workflow.reset_workflow()"
   ]
  },
  {
   "cell_type": "code",
   "execution_count": 17,
   "metadata": {},
   "outputs": [],
   "source": [
    "workflow.execute(exit_condition='concurrently')"
   ]
  },
  {
   "cell_type": "code",
   "execution_count": 18,
   "metadata": {},
   "outputs": [
    {
     "name": "stdout",
     "output_type": "stream",
     "text": [
      "- event: Log Creation\n",
      "  timestamp: 2022-08-11 11:36:44.074545\n",
      "- event: Task test_workflow_2 was created.\n",
      "  timestamp: 2022-08-11 11:36:44.085220\n",
      "- event: Task id is fddb306e-3c11-4dd1-a5f0-b163801c6ea8\n",
      "  timestamp: 2022-08-11 11:36:44.092226\n",
      "- event: Starting slot 0, tasks ['Start'] have started\n",
      "  timestamp: 2022-08-11 11:36:44.194159\n",
      "- event: The task Start has completed\n",
      "  timestamp: 2022-08-11 11:36:44.202156\n",
      "- event: Starting slot 1, tasks ['cubic', 'square', 'linear'] have started\n",
      "  timestamp: 2022-08-11 11:36:44.243494\n",
      "- event: The task cubic has completed\n",
      "  timestamp: 2022-08-11 11:36:44.253491\n",
      "- event: The task square has completed\n",
      "  timestamp: 2022-08-11 11:36:44.261008\n",
      "- event: The task linear has completed\n",
      "  timestamp: 2022-08-11 11:36:44.271026\n",
      "- event: Starting slot 2, tasks ['combiner'] have started\n",
      "  timestamp: 2022-08-11 11:36:44.461028\n",
      "- event: The task combiner has completed\n",
      "  timestamp: 2022-08-11 11:36:44.471027\n",
      "- event: Starting slot 3, tasks ['Stop'] have started\n",
      "  timestamp: 2022-08-11 11:36:44.491027\n",
      "- event: The task Stop has completed\n",
      "  timestamp: 2022-08-11 11:36:44.501027\n",
      "- event: Reset the workflow\n",
      "  timestamp: 2022-08-11 11:36:45.059153\n",
      "- event: Starting slot 0, tasks ['Start'] have started\n",
      "  timestamp: 2022-08-11 11:36:45.090917\n",
      "- event: The task Start has completed\n",
      "  timestamp: 2022-08-11 11:36:45.119556\n",
      "- event: Starting slot 1, tasks ['cubic', 'square', 'linear'] have started\n",
      "  timestamp: 2022-08-11 11:36:45.189601\n",
      "- event: The task cubic has completed\n",
      "  timestamp: 2022-08-11 11:36:45.209601\n",
      "- event: The task square has completed\n",
      "  timestamp: 2022-08-11 11:36:45.229602\n",
      "- event: The task linear has completed\n",
      "  timestamp: 2022-08-11 11:36:45.259601\n",
      "- event: Starting slot 2, tasks ['combiner'] have started\n",
      "  timestamp: 2022-08-11 11:36:45.769613\n",
      "- event: The task combiner has completed\n",
      "  timestamp: 2022-08-11 11:36:45.789613\n",
      "- event: Starting slot 3, tasks ['Stop'] have started\n",
      "  timestamp: 2022-08-11 11:36:45.809614\n",
      "- event: The task Stop has completed\n",
      "  timestamp: 2022-08-11 11:36:45.844162\n",
      "\n"
     ]
    }
   ],
   "source": [
    "print(workflow.log)"
   ]
  },
  {
   "cell_type": "markdown",
   "metadata": {},
   "source": [
    "## Two Combined Workflows\n"
   ]
  },
  {
   "cell_type": "code",
   "execution_count": 19,
   "metadata": {},
   "outputs": [
    {
     "name": "stdout",
     "output_type": "stream",
     "text": [
      "An error occurred in opening the log New_workflow_20220811_001_log_20220811_001.yaml, error:[Errno 2] No such file or directory: 'New_workflow_20220811_001_log_20220811_001.yaml' creating a new one.\n",
      "An error occurred in opening the log Start_log_20220811_003.yaml, error:[Errno 2] No such file or directory: 'Start_log_20220811_003.yaml' creating a new one.\n",
      "An error occurred in opening the log Stop_log_20220811_003.yaml, error:[Errno 2] No such file or directory: 'Stop_log_20220811_003.yaml' creating a new one.\n"
     ]
    }
   ],
   "source": [
    "test_workflow.reset_workflow()\n",
    "workflow.reset_workflow()\n",
    "combined_workflow = Workflow()\n",
    "combined_workflow.add_task(test_workflow)\n",
    "combined_workflow.add_task(workflow)"
   ]
  },
  {
   "cell_type": "code",
   "execution_count": 20,
   "metadata": {},
   "outputs": [],
   "source": [
    "combined_workflow.execute(exit_condition='concurrently')"
   ]
  },
  {
   "cell_type": "code",
   "execution_count": 21,
   "metadata": {},
   "outputs": [
    {
     "name": "stdout",
     "output_type": "stream",
     "text": [
      "- event: Log Creation\n",
      "  timestamp: 2022-08-11 11:36:45.973543\n",
      "- event: Task New_workflow_20220811_001 was created.\n",
      "  timestamp: 2022-08-11 11:36:45.983543\n",
      "- event: Task id is 4ad69354-1540-4f84-82d1-f929d0c6f580\n",
      "  timestamp: 2022-08-11 11:36:45.983543\n",
      "- event: Starting slot 0, tasks ['Start'] have started\n",
      "  timestamp: 2022-08-11 11:36:46.075153\n",
      "- event: The task Start has completed\n",
      "  timestamp: 2022-08-11 11:36:46.086143\n",
      "- event: Starting slot 1, tasks ['test_workflow_2', 'test_workflow_1'] have started\n",
      "  timestamp: 2022-08-11 11:36:47.286345\n",
      "- event: The task test_workflow_2 has completed\n",
      "  timestamp: 2022-08-11 11:36:47.312006\n",
      "- event: The task test_workflow_1 has completed\n",
      "  timestamp: 2022-08-11 11:36:47.343579\n",
      "- event: Starting slot 2, tasks ['Stop'] have started\n",
      "  timestamp: 2022-08-11 11:36:47.370866\n",
      "- event: The task Stop has completed\n",
      "  timestamp: 2022-08-11 11:36:47.385875\n",
      "\n"
     ]
    }
   ],
   "source": [
    "print(combined_workflow.log)"
   ]
  },
  {
   "cell_type": "code",
   "execution_count": 22,
   "metadata": {},
   "outputs": [
    {
     "name": "stdout",
     "output_type": "stream",
     "text": [
      "The slot index is 0\n",
      "The slot index is 1\n",
      "The task index is 0 and the task is test_workflow_2\n",
      "The task index is 1 and the task is test_workflow_1\n",
      "The task index is 0 and the task is <nasctn_workflow.code_.workflows.Workflow object at 0x000001F622EE7C88>\n",
      "The task index is 1 and the task is <nasctn_workflow.code_.workflows.Workflow object at 0x000001F622CF6978>\n",
      "The slot index is 1, The task index is 0 and the task is <nasctn_workflow.code_.workflows.Workflow object at 0x000001F622EE7C88>\n",
      "Adding the edge Start,test_workflow_2 \n",
      "The slot index is 1, The task index is 1 and the task is <nasctn_workflow.code_.workflows.Workflow object at 0x000001F622CF6978>\n",
      "Adding the edge Start,test_workflow_1 \n",
      "The slot index is 2\n"
     ]
    },
    {
     "data": {
      "image/png": "[encoded data removed]",
      "text/plain": [
       "<Figure size 432x288 with 1 Axes>"
      ]
     },
     "metadata": {},
     "output_type": "display_data"
    }
   ],
   "source": [
    "combined_workflow.show(type_=\"nx\",display = \"name\",verbose = True)"
   ]
  },
  {
   "cell_type": "code",
   "execution_count": 23,
   "metadata": {},
   "outputs": [
    {
     "name": "stdout",
     "output_type": "stream",
     "text": [
      "- event: Log Creation\n",
      "  timestamp: 2022-08-11 11:36:44.074545\n",
      "- event: Task test_workflow_2 was created.\n",
      "  timestamp: 2022-08-11 11:36:44.085220\n",
      "- event: Task id is fddb306e-3c11-4dd1-a5f0-b163801c6ea8\n",
      "  timestamp: 2022-08-11 11:36:44.092226\n",
      "- event: Starting slot 0, tasks ['Start'] have started\n",
      "  timestamp: 2022-08-11 11:36:44.194159\n",
      "- event: The task Start has completed\n",
      "  timestamp: 2022-08-11 11:36:44.202156\n",
      "- event: Starting slot 1, tasks ['cubic', 'square', 'linear'] have started\n",
      "  timestamp: 2022-08-11 11:36:44.243494\n",
      "- event: The task cubic has completed\n",
      "  timestamp: 2022-08-11 11:36:44.253491\n",
      "- event: The task square has completed\n",
      "  timestamp: 2022-08-11 11:36:44.261008\n",
      "- event: The task linear has completed\n",
      "  timestamp: 2022-08-11 11:36:44.271026\n",
      "- event: Starting slot 2, tasks ['combiner'] have started\n",
      "  timestamp: 2022-08-11 11:36:44.461028\n",
      "- event: The task combiner has completed\n",
      "  timestamp: 2022-08-11 11:36:44.471027\n",
      "- event: Starting slot 3, tasks ['Stop'] have started\n",
      "  timestamp: 2022-08-11 11:36:44.491027\n",
      "- event: The task Stop has completed\n",
      "  timestamp: 2022-08-11 11:36:44.501027\n",
      "- event: Reset the workflow\n",
      "  timestamp: 2022-08-11 11:36:45.059153\n",
      "- event: Starting slot 0, tasks ['Start'] have started\n",
      "  timestamp: 2022-08-11 11:36:45.090917\n",
      "- event: The task Start has completed\n",
      "  timestamp: 2022-08-11 11:36:45.119556\n",
      "- event: Starting slot 1, tasks ['cubic', 'square', 'linear'] have started\n",
      "  timestamp: 2022-08-11 11:36:45.189601\n",
      "- event: The task cubic has completed\n",
      "  timestamp: 2022-08-11 11:36:45.209601\n",
      "- event: The task square has completed\n",
      "  timestamp: 2022-08-11 11:36:45.229602\n",
      "- event: The task linear has completed\n",
      "  timestamp: 2022-08-11 11:36:45.259601\n",
      "- event: Starting slot 2, tasks ['combiner'] have started\n",
      "  timestamp: 2022-08-11 11:36:45.769613\n",
      "- event: The task combiner has completed\n",
      "  timestamp: 2022-08-11 11:36:45.789613\n",
      "- event: Starting slot 3, tasks ['Stop'] have started\n",
      "  timestamp: 2022-08-11 11:36:45.809614\n",
      "- event: The task Stop has completed\n",
      "  timestamp: 2022-08-11 11:36:45.844162\n",
      "- event: Reset the workflow\n",
      "  timestamp: 2022-08-11 11:36:45.951462\n",
      "- event: Starting slot 0, tasks ['Start'] have started\n",
      "  timestamp: 2022-08-11 11:36:46.100145\n",
      "- event: The task Start has completed\n",
      "  timestamp: 2022-08-11 11:36:46.139448\n",
      "- event: Starting slot 1, tasks ['cubic', 'square', 'linear'] have started\n",
      "  timestamp: 2022-08-11 11:36:46.249468\n",
      "- event: The task cubic has completed\n",
      "  timestamp: 2022-08-11 11:36:46.279466\n",
      "- event: The task square has completed\n",
      "  timestamp: 2022-08-11 11:36:46.299467\n",
      "- event: The task linear has completed\n",
      "  timestamp: 2022-08-11 11:36:46.329466\n",
      "- event: Starting slot 2, tasks ['combiner'] have started\n",
      "  timestamp: 2022-08-11 11:36:46.819174\n",
      "- event: The task combiner has completed\n",
      "  timestamp: 2022-08-11 11:36:46.910618\n",
      "- event: Starting slot 3, tasks ['Stop'] have started\n",
      "  timestamp: 2022-08-11 11:36:47.045621\n",
      "- event: The task Stop has completed\n",
      "  timestamp: 2022-08-11 11:36:47.175211\n",
      "\n"
     ]
    }
   ],
   "source": [
    "print(combined_workflow.tasks[1].log)"
   ]
  }
 ],
 "metadata": {
  "kernelspec": {
   "display_name": "Python 3 (ipykernel)",
   "language": "python",
   "name": "python3"
  },
  "language_info": {
   "codemirror_mode": {
    "name": "ipython",
    "version": 3
   },
   "file_extension": ".py",
   "mimetype": "text/x-python",
   "name": "python",
   "nbconvert_exporter": "python",
   "pygments_lexer": "ipython3",
   "version": "3.9.12"
  }
 },
 "nbformat": 4,
 "nbformat_minor": 2
}
